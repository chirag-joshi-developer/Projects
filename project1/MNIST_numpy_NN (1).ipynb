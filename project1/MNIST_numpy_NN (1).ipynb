{
  "nbformat": 4,
  "nbformat_minor": 0,
  "metadata": {
    "colab": {
      "provenance": [],
      "toc_visible": true
    },
    "kernelspec": {
      "name": "python3",
      "display_name": "Python 3"
    },
    "language_info": {
      "name": "python"
    }
  },
  "cells": [
    {
      "cell_type": "code",
      "execution_count": 1,
      "metadata": {
        "colab": {
          "base_uri": "https://localhost:8080/"
        },
        "id": "H9U-q2ijGDya",
        "outputId": "1186a0b0-0c22-4c0c-be23-35b4802b921c"
      },
      "outputs": [
        {
          "output_type": "stream",
          "name": "stdout",
          "text": [
            "['mnist_test.csv', 'mnist_train.csv']\n"
          ]
        }
      ],
      "source": [
        "import numpy as np\n",
        "import pandas as pd\n",
        "import matplotlib.pyplot as plt\n",
        "import kagglehub\n",
        "import os\n",
        "from sklearn.metrics import confusion_matrix, ConfusionMatrixDisplay\n",
        "\n",
        "path = kagglehub.dataset_download(\"oddrationale/mnist-in-csv\")\n",
        "print(os.listdir(path))"
      ]
    },
    {
      "cell_type": "code",
      "source": [
        "df_train = pd.read_csv(os.path.join(path, 'mnist_train.csv'))\n",
        "print(df_train.shape)"
      ],
      "metadata": {
        "colab": {
          "base_uri": "https://localhost:8080/"
        },
        "id": "C1_G7mguMtzn",
        "outputId": "ba417890-0f24-4390-eea2-a9454e0e53a3"
      },
      "execution_count": 2,
      "outputs": [
        {
          "output_type": "stream",
          "name": "stdout",
          "text": [
            "(60000, 785)\n"
          ]
        }
      ]
    },
    {
      "cell_type": "code",
      "source": [
        "data = np.array(df_train)\n",
        "np.random.shuffle(data)\n",
        "m,n = data.shape\n",
        "\n",
        "dev = data[0:1000].T\n",
        "Y_dev = dev[0]\n",
        "X_dev = dev[1:]\n",
        "X_dev = X_dev/255\n",
        "\n",
        "test = data[1000:2000].T\n",
        "Y_test = test[0]\n",
        "X_test = test[1:]\n",
        "X_test = X_test/255\n",
        "\n",
        "train = data[2000:].T\n",
        "Y_train = train[0]\n",
        "X_train = train[1:]\n",
        "X_train = X_train/255\n",
        "\n",
        "\n",
        "print(Y_dev.shape,X_dev.shape)\n",
        "print(Y_test.shape,X_test.shape)\n",
        "print(Y_train.shape,X_train.shape)"
      ],
      "metadata": {
        "colab": {
          "base_uri": "https://localhost:8080/"
        },
        "id": "X0DisbaSPLQK",
        "outputId": "bd25228e-8112-4f8a-8f35-0a126c9021dd"
      },
      "execution_count": 3,
      "outputs": [
        {
          "output_type": "stream",
          "name": "stdout",
          "text": [
            "(1000,) (784, 1000)\n",
            "(1000,) (784, 1000)\n",
            "(58000,) (784, 58000)\n"
          ]
        }
      ]
    },
    {
      "cell_type": "code",
      "source": [
        "def one_hot(Y):\n",
        "  one_hot_Y = np.zeros((Y.size,Y.max()+1))\n",
        "  one_hot_Y[np.arange(Y.size),Y] = 1\n",
        "  one_hot_Y = one_hot_Y.T\n",
        "  return one_hot_Y"
      ],
      "metadata": {
        "id": "hshuOrEAtqiH"
      },
      "execution_count": 4,
      "outputs": []
    },
    {
      "cell_type": "code",
      "source": [
        "#functions\n",
        "def parameters_init():\n",
        "  W1 = np.random.rand(30,784)*0.009\n",
        "  B1 = np.zeros((30,1))\n",
        "  W2 = np.random.rand(20,30)*0.009\n",
        "  B2 = np.zeros((20,1))\n",
        "  W3 = np.random.rand(10,20)*0.009\n",
        "  B3 = np.zeros((10,1))\n",
        "  return W1,B1,W2,B2,W3,B3\n",
        "\n",
        "def ReLU(Z):\n",
        "  return np.maximum(Z,0)\n",
        "\n",
        "def ReLU_prime(Z):\n",
        "  return Z>0\n",
        "\n",
        "def softmax(Z):\n",
        "  A = np.exp(Z)/sum(np.exp(Z))\n",
        "  return A"
      ],
      "metadata": {
        "id": "bb879OOqw1jK"
      },
      "execution_count": 5,
      "outputs": []
    },
    {
      "cell_type": "code",
      "source": [
        "#implementation\n",
        "def forward_pass(A0,W1,B1,W2,B2,W3,B3):\n",
        "  Z1 = W1.dot(A0)+B1\n",
        "  A1 = ReLU(Z1)\n",
        "  Z2 = W2.dot(A1)+B2\n",
        "  A2 = ReLU(Z2)\n",
        "  Z3 = W3.dot(A2)+B3\n",
        "  A3 = softmax(Z3)\n",
        "  return Z1,A1,Z2,A2,Z3,A3\n",
        "\n",
        "def backward_pass(A3,W3,A2,Z2,W2,A1,Z1,A0,Y):\n",
        "  one_hot_Y = one_hot(Y)\n",
        "  dZ3 = A3 - one_hot_Y\n",
        "  dW3 = 1/m*(np.dot(dZ3,A2.T))\n",
        "  dB3 = 1/m*np.sum(dZ3, axis=1, keepdims=True)\n",
        "\n",
        "  dZ2 = np.dot(W3.T,dZ3)*ReLU_prime(Z2)\n",
        "  dW2 = 1/m*(np.dot(dZ2,A1.T))\n",
        "  dB2 = 1/m*np.sum(dZ2, axis=1, keepdims=True)\n",
        "\n",
        "  dZ1 = np.dot(W2.T,dZ2)*ReLU_prime(Z1)\n",
        "  dW1 = 1/m*(np.dot(dZ1,A0.T))\n",
        "  dB1 = 1/m*np.sum(dZ1, axis=1, keepdims=True)\n",
        "\n",
        "  return dW1,dB1,dW2,dB2,dW3,dB3\n",
        "\n",
        "def update_parameters(W1,B1,W2,B2,W3,B3,dW1,dB1,dW2,dB2,dW3,dB3,alpha):\n",
        "  W1 -= alpha*dW1\n",
        "  B1 -= alpha*dB1\n",
        "  W2 -= alpha*dW2\n",
        "  B2 -= alpha*dB2\n",
        "  W3 -= alpha*dW3\n",
        "  B3 -= alpha*dB3\n",
        "  return W1,B1,W2,B2,W3,B3\n",
        "\n"
      ],
      "metadata": {
        "id": "CR4R3Z2EzzlH"
      },
      "execution_count": 6,
      "outputs": []
    },
    {
      "cell_type": "code",
      "source": [
        "def get_predictions(A3):\n",
        "  return np.argmax(A3, 0)\n",
        "\n",
        "def compute_cost(Y_hat, Y):\n",
        "    if Y.ndim == 1:\n",
        "        one_hot_Y = np.zeros_like(Y_hat)\n",
        "        one_hot_Y[Y, np.arange(Y.size)] = 1\n",
        "        Y = one_hot_Y\n",
        "    m = Y.shape[1]\n",
        "    return -np.sum(Y * np.log(Y_hat + 1e-8)) / m\n",
        "\n",
        "def get_accuracy(predictions, Y):\n",
        "  return np.sum(predictions == Y) / Y.size\n"
      ],
      "metadata": {
        "id": "S4S4Q3HcAiMD"
      },
      "execution_count": 7,
      "outputs": []
    },
    {
      "cell_type": "code",
      "source": [
        "cost_list=[]\n",
        "accuracy_list=[]"
      ],
      "metadata": {
        "id": "rMyXrmqEr4Ih"
      },
      "execution_count": 8,
      "outputs": []
    },
    {
      "cell_type": "code",
      "source": [
        "def grad_descent(epoch,alpha,X,Y):\n",
        "  W1,B1,W2,B2,W3,B3 = parameters_init()\n",
        "  for i in range(epoch+1):\n",
        "    Z1,A1,Z2,A2,Z3,A3 = forward_pass(X,W1,B1,W2,B2,W3,B3)\n",
        "    dW1,dB1,dW2,dB2,dW3,dB3 = backward_pass(A3,W3,A2,Z2,W2,A1,Z1,X,Y)\n",
        "    W1,B1,W2,B2,W3,B3 = update_parameters(W1,B1,W2,B2,W3,B3,dW1,dB1,dW2,dB2,dW3,dB3,alpha)\n",
        "    if i % 10 == 0:\n",
        "      print(\"Iteration: \", i)\n",
        "      cost = compute_cost(A3,Y)\n",
        "      print(\"cost: \",cost)\n",
        "      cost_list.append(cost)\n",
        "      predictions = get_predictions(A3)\n",
        "      print(\"accuracy: \")\n",
        "      acc = get_accuracy(predictions, Y)\n",
        "      print(acc)\n",
        "      accuracy_list.append(acc)\n",
        "  return W1,B1,W2,B2,W3,B3"
      ],
      "metadata": {
        "id": "WvrQk1USAjCV"
      },
      "execution_count": 9,
      "outputs": []
    },
    {
      "cell_type": "code",
      "source": [
        "W1, B1, W2, B2, W3, B3 = grad_descent(1200, 0.21,X_train, Y_train)\n"
      ],
      "metadata": {
        "colab": {
          "base_uri": "https://localhost:8080/"
        },
        "id": "cvPnRkFHIX52",
        "outputId": "26cdd34e-54be-4300-fee7-ffc9d894cc92"
      },
      "execution_count": 10,
      "outputs": [
        {
          "output_type": "stream",
          "name": "stdout",
          "text": [
            "Iteration:  0\n",
            "cost:  2.302580372281363\n",
            "accuracy: \n",
            "0.09813793103448276\n",
            "Iteration:  10\n",
            "cost:  2.3016113172944985\n",
            "accuracy: \n",
            "0.11324137931034482\n",
            "Iteration:  20\n",
            "cost:  2.3006155147224785\n",
            "accuracy: \n",
            "0.11474137931034482\n",
            "Iteration:  30\n",
            "cost:  2.2992818141443863\n",
            "accuracy: \n",
            "0.13541379310344828\n",
            "Iteration:  40\n",
            "cost:  2.297058406753324\n",
            "accuracy: \n",
            "0.18763793103448276\n",
            "Iteration:  50\n",
            "cost:  2.2927839863373323\n",
            "accuracy: \n",
            "0.2016206896551724\n",
            "Iteration:  60\n",
            "cost:  2.2838742262679133\n",
            "accuracy: \n",
            "0.1815\n",
            "Iteration:  70\n",
            "cost:  2.2648583548969117\n",
            "accuracy: \n",
            "0.1745\n",
            "Iteration:  80\n",
            "cost:  2.2235320695321708\n",
            "accuracy: \n",
            "0.1974655172413793\n",
            "Iteration:  90\n",
            "cost:  2.1615958453629465\n",
            "accuracy: \n",
            "0.20791379310344826\n",
            "Iteration:  100\n",
            "cost:  2.095451665793277\n",
            "accuracy: \n",
            "0.21587931034482757\n",
            "Iteration:  110\n",
            "cost:  2.035277596434011\n",
            "accuracy: \n",
            "0.2229655172413793\n",
            "Iteration:  120\n",
            "cost:  1.986016489194295\n",
            "accuracy: \n",
            "0.2282241379310345\n",
            "Iteration:  130\n",
            "cost:  1.9473541880077592\n",
            "accuracy: \n",
            "0.2331551724137931\n",
            "Iteration:  140\n",
            "cost:  1.9165660041755226\n",
            "accuracy: \n",
            "0.2373448275862069\n",
            "Iteration:  150\n",
            "cost:  1.8912875301866658\n",
            "accuracy: \n",
            "0.24308620689655172\n",
            "Iteration:  160\n",
            "cost:  1.869995864867138\n",
            "accuracy: \n",
            "0.2486551724137931\n",
            "Iteration:  170\n",
            "cost:  1.8516504094121915\n",
            "accuracy: \n",
            "0.2533103448275862\n",
            "Iteration:  180\n",
            "cost:  1.835607036162781\n",
            "accuracy: \n",
            "0.2577931034482759\n",
            "Iteration:  190\n",
            "cost:  1.821455072639973\n",
            "accuracy: \n",
            "0.26160344827586207\n",
            "Iteration:  200\n",
            "cost:  1.8088730039442475\n",
            "accuracy: \n",
            "0.26489655172413795\n",
            "Iteration:  210\n",
            "cost:  1.797627971206225\n",
            "accuracy: \n",
            "0.2677413793103448\n",
            "Iteration:  220\n",
            "cost:  1.7875178818674164\n",
            "accuracy: \n",
            "0.2701034482758621\n",
            "Iteration:  230\n",
            "cost:  1.7783573155318364\n",
            "accuracy: \n",
            "0.2726724137931035\n",
            "Iteration:  240\n",
            "cost:  1.7699430543353152\n",
            "accuracy: \n",
            "0.2757586206896552\n",
            "Iteration:  250\n",
            "cost:  1.7620459525762588\n",
            "accuracy: \n",
            "0.2779655172413793\n",
            "Iteration:  260\n",
            "cost:  1.7544525522876706\n",
            "accuracy: \n",
            "0.2795\n",
            "Iteration:  270\n",
            "cost:  1.7469018959198768\n",
            "accuracy: \n",
            "0.2816724137931034\n",
            "Iteration:  280\n",
            "cost:  1.739319087607235\n",
            "accuracy: \n",
            "0.2840344827586207\n",
            "Iteration:  290\n",
            "cost:  1.731985458299077\n",
            "accuracy: \n",
            "0.28617241379310343\n",
            "Iteration:  300\n",
            "cost:  1.724953962362091\n",
            "accuracy: \n",
            "0.2877758620689655\n",
            "Iteration:  310\n",
            "cost:  1.7181289606647077\n",
            "accuracy: \n",
            "0.28979310344827586\n",
            "Iteration:  320\n",
            "cost:  1.711489193491936\n",
            "accuracy: \n",
            "0.2914137931034483\n",
            "Iteration:  330\n",
            "cost:  1.7050869584432806\n",
            "accuracy: \n",
            "0.29282758620689653\n",
            "Iteration:  340\n",
            "cost:  1.6988303210522882\n",
            "accuracy: \n",
            "0.29470689655172416\n",
            "Iteration:  350\n",
            "cost:  1.6926076136333317\n",
            "accuracy: \n",
            "0.2965689655172414\n",
            "Iteration:  360\n",
            "cost:  1.6863765044035834\n",
            "accuracy: \n",
            "0.29844827586206896\n",
            "Iteration:  370\n",
            "cost:  1.6800999535427625\n",
            "accuracy: \n",
            "0.3009310344827586\n",
            "Iteration:  380\n",
            "cost:  1.6737082188299957\n",
            "accuracy: \n",
            "0.3029655172413793\n",
            "Iteration:  390\n",
            "cost:  1.6671321434463489\n",
            "accuracy: \n",
            "0.3054137931034483\n",
            "Iteration:  400\n",
            "cost:  1.6602073858334274\n",
            "accuracy: \n",
            "0.3081379310344828\n",
            "Iteration:  410\n",
            "cost:  1.6527144914265368\n",
            "accuracy: \n",
            "0.3106551724137931\n",
            "Iteration:  420\n",
            "cost:  1.6442988841956703\n",
            "accuracy: \n",
            "0.3140689655172414\n",
            "Iteration:  430\n",
            "cost:  1.634572717242083\n",
            "accuracy: \n",
            "0.31717241379310346\n",
            "Iteration:  440\n",
            "cost:  1.623151747249392\n",
            "accuracy: \n",
            "0.32074137931034485\n",
            "Iteration:  450\n",
            "cost:  1.6098510715756096\n",
            "accuracy: \n",
            "0.32391379310344826\n",
            "Iteration:  460\n",
            "cost:  1.59490102196482\n",
            "accuracy: \n",
            "0.32763793103448274\n",
            "Iteration:  470\n",
            "cost:  1.5788070339681097\n",
            "accuracy: \n",
            "0.33382758620689656\n",
            "Iteration:  480\n",
            "cost:  1.5619551488592842\n",
            "accuracy: \n",
            "0.3419655172413793\n",
            "Iteration:  490\n",
            "cost:  1.544089254765007\n",
            "accuracy: \n",
            "0.3511206896551724\n",
            "Iteration:  500\n",
            "cost:  1.524354770442307\n",
            "accuracy: \n",
            "0.3607758620689655\n",
            "Iteration:  510\n",
            "cost:  1.5021475617857725\n",
            "accuracy: \n",
            "0.37225862068965515\n",
            "Iteration:  520\n",
            "cost:  1.4774025000526\n",
            "accuracy: \n",
            "0.3878620689655172\n",
            "Iteration:  530\n",
            "cost:  1.4501085176145057\n",
            "accuracy: \n",
            "0.40344827586206894\n",
            "Iteration:  540\n",
            "cost:  1.4229353899288475\n",
            "accuracy: \n",
            "0.41486206896551725\n",
            "Iteration:  550\n",
            "cost:  1.398854103527271\n",
            "accuracy: \n",
            "0.42270689655172416\n",
            "Iteration:  560\n",
            "cost:  1.3787639182237523\n",
            "accuracy: \n",
            "0.429551724137931\n",
            "Iteration:  570\n",
            "cost:  1.3617441255634635\n",
            "accuracy: \n",
            "0.43824137931034485\n",
            "Iteration:  580\n",
            "cost:  1.3462862282645014\n",
            "accuracy: \n",
            "0.4485\n",
            "Iteration:  590\n",
            "cost:  1.3311661969873696\n",
            "accuracy: \n",
            "0.4591724137931035\n",
            "Iteration:  600\n",
            "cost:  1.3152421773576253\n",
            "accuracy: \n",
            "0.47193103448275864\n",
            "Iteration:  610\n",
            "cost:  1.2974564546140905\n",
            "accuracy: \n",
            "0.48979310344827587\n",
            "Iteration:  620\n",
            "cost:  1.2764249448979077\n",
            "accuracy: \n",
            "0.5096551724137931\n",
            "Iteration:  630\n",
            "cost:  1.2506697915029765\n",
            "accuracy: \n",
            "0.5280689655172414\n",
            "Iteration:  640\n",
            "cost:  1.2192181574522256\n",
            "accuracy: \n",
            "0.5490172413793103\n",
            "Iteration:  650\n",
            "cost:  1.1823551756452595\n",
            "accuracy: \n",
            "0.5785172413793104\n",
            "Iteration:  660\n",
            "cost:  1.1421872670415443\n",
            "accuracy: \n",
            "0.6130862068965517\n",
            "Iteration:  670\n",
            "cost:  1.101663007232365\n",
            "accuracy: \n",
            "0.6208275862068966\n",
            "Iteration:  680\n",
            "cost:  1.0629105849926788\n",
            "accuracy: \n",
            "0.6286034482758621\n",
            "Iteration:  690\n",
            "cost:  1.0260951655215187\n",
            "accuracy: \n",
            "0.6348620689655172\n",
            "Iteration:  700\n",
            "cost:  0.9906044209894062\n",
            "accuracy: \n",
            "0.6393965517241379\n",
            "Iteration:  710\n",
            "cost:  0.9560895281654004\n",
            "accuracy: \n",
            "0.6499310344827586\n",
            "Iteration:  720\n",
            "cost:  0.9458130232607875\n",
            "accuracy: \n",
            "0.6871896551724138\n",
            "Iteration:  730\n",
            "cost:  0.9234356764103018\n",
            "accuracy: \n",
            "0.6997413793103449\n",
            "Iteration:  740\n",
            "cost:  0.8559054002818799\n",
            "accuracy: \n",
            "0.72\n",
            "Iteration:  750\n",
            "cost:  0.8194042738341363\n",
            "accuracy: \n",
            "0.7345\n",
            "Iteration:  760\n",
            "cost:  0.787484789082144\n",
            "accuracy: \n",
            "0.7463103448275862\n",
            "Iteration:  770\n",
            "cost:  0.7593531367332611\n",
            "accuracy: \n",
            "0.7560862068965517\n",
            "Iteration:  780\n",
            "cost:  0.7284695598634898\n",
            "accuracy: \n",
            "0.7666379310344827\n",
            "Iteration:  790\n",
            "cost:  0.6965139505187872\n",
            "accuracy: \n",
            "0.7764137931034483\n",
            "Iteration:  800\n",
            "cost:  0.6685184258662988\n",
            "accuracy: \n",
            "0.7856724137931035\n",
            "Iteration:  810\n",
            "cost:  0.643767352275387\n",
            "accuracy: \n",
            "0.7939137931034482\n",
            "Iteration:  820\n",
            "cost:  0.6211164775914708\n",
            "accuracy: \n",
            "0.8023793103448276\n",
            "Iteration:  830\n",
            "cost:  0.6001291657288901\n",
            "accuracy: \n",
            "0.8105\n",
            "Iteration:  840\n",
            "cost:  0.5809888202522009\n",
            "accuracy: \n",
            "0.8188965517241379\n",
            "Iteration:  850\n",
            "cost:  0.5652739900034269\n",
            "accuracy: \n",
            "0.8292068965517242\n",
            "Iteration:  860\n",
            "cost:  0.5560608335337178\n",
            "accuracy: \n",
            "0.8366896551724138\n",
            "Iteration:  870\n",
            "cost:  0.5474474529621605\n",
            "accuracy: \n",
            "0.8430862068965517\n",
            "Iteration:  880\n",
            "cost:  0.5230303064238888\n",
            "accuracy: \n",
            "0.8520517241379311\n",
            "Iteration:  890\n",
            "cost:  0.5006190065357646\n",
            "accuracy: \n",
            "0.8605\n",
            "Iteration:  900\n",
            "cost:  0.48361708270176956\n",
            "accuracy: \n",
            "0.8670689655172413\n",
            "Iteration:  910\n",
            "cost:  0.4691442377769838\n",
            "accuracy: \n",
            "0.8725689655172414\n",
            "Iteration:  920\n",
            "cost:  0.456996094130417\n",
            "accuracy: \n",
            "0.8769482758620689\n",
            "Iteration:  930\n",
            "cost:  0.448522500095179\n",
            "accuracy: \n",
            "0.8786379310344827\n",
            "Iteration:  940\n",
            "cost:  0.44059787072929396\n",
            "accuracy: \n",
            "0.8795689655172414\n",
            "Iteration:  950\n",
            "cost:  0.4226366703909192\n",
            "accuracy: \n",
            "0.8847586206896552\n",
            "Iteration:  960\n",
            "cost:  0.4031970803081705\n",
            "accuracy: \n",
            "0.8902758620689655\n",
            "Iteration:  970\n",
            "cost:  0.3890212568412448\n",
            "accuracy: \n",
            "0.8939482758620689\n",
            "Iteration:  980\n",
            "cost:  0.3779078913590635\n",
            "accuracy: \n",
            "0.8966379310344827\n",
            "Iteration:  990\n",
            "cost:  0.36861323522352096\n",
            "accuracy: \n",
            "0.8987586206896552\n",
            "Iteration:  1000\n",
            "cost:  0.360450640204043\n",
            "accuracy: \n",
            "0.9002241379310345\n",
            "Iteration:  1010\n",
            "cost:  0.35309153431407503\n",
            "accuracy: \n",
            "0.9020689655172414\n",
            "Iteration:  1020\n",
            "cost:  0.3459339927511921\n",
            "accuracy: \n",
            "0.9041551724137931\n",
            "Iteration:  1030\n",
            "cost:  0.3382029522182097\n",
            "accuracy: \n",
            "0.906448275862069\n",
            "Iteration:  1040\n",
            "cost:  0.33035924177982534\n",
            "accuracy: \n",
            "0.9086551724137931\n",
            "Iteration:  1050\n",
            "cost:  0.3229824568953657\n",
            "accuracy: \n",
            "0.9105517241379311\n",
            "Iteration:  1060\n",
            "cost:  0.3162579444663479\n",
            "accuracy: \n",
            "0.9128620689655172\n",
            "Iteration:  1070\n",
            "cost:  0.31016143928520173\n",
            "accuracy: \n",
            "0.914448275862069\n",
            "Iteration:  1080\n",
            "cost:  0.3045118060239615\n",
            "accuracy: \n",
            "0.9156896551724137\n",
            "Iteration:  1090\n",
            "cost:  0.2992540493175037\n",
            "accuracy: \n",
            "0.9168793103448276\n",
            "Iteration:  1100\n",
            "cost:  0.29437492325101255\n",
            "accuracy: \n",
            "0.9181724137931034\n",
            "Iteration:  1110\n",
            "cost:  0.2899689996736573\n",
            "accuracy: \n",
            "0.9191206896551725\n",
            "Iteration:  1120\n",
            "cost:  0.2859049401673037\n",
            "accuracy: \n",
            "0.9201724137931034\n",
            "Iteration:  1130\n",
            "cost:  0.28222629519460063\n",
            "accuracy: \n",
            "0.9209827586206897\n",
            "Iteration:  1140\n",
            "cost:  0.2784896076228011\n",
            "accuracy: \n",
            "0.9219137931034482\n",
            "Iteration:  1150\n",
            "cost:  0.27448292011183195\n",
            "accuracy: \n",
            "0.9231034482758621\n",
            "Iteration:  1160\n",
            "cost:  0.27022180080192876\n",
            "accuracy: \n",
            "0.9240172413793103\n",
            "Iteration:  1170\n",
            "cost:  0.26569656633832023\n",
            "accuracy: \n",
            "0.9253965517241379\n",
            "Iteration:  1180\n",
            "cost:  0.26127962210844813\n",
            "accuracy: \n",
            "0.9266551724137931\n",
            "Iteration:  1190\n",
            "cost:  0.25728459133481774\n",
            "accuracy: \n",
            "0.9280689655172414\n",
            "Iteration:  1200\n",
            "cost:  0.25366161737065646\n",
            "accuracy: \n",
            "0.9290689655172414\n"
          ]
        }
      ]
    },
    {
      "cell_type": "code",
      "source": [
        "Z1,A1,Z2,A2,Z3,A3 = forward_pass(X_dev,W1,B1,W2,B2,W3,B3)\n",
        "predictions = get_predictions(A3)\n",
        "print(\"accuracy on dev: \")\n",
        "print(get_accuracy(predictions, Y_dev))"
      ],
      "metadata": {
        "colab": {
          "base_uri": "https://localhost:8080/"
        },
        "id": "us9apxXAtLPX",
        "outputId": "1248fea0-8731-4062-c567-ee46cb062997"
      },
      "execution_count": 11,
      "outputs": [
        {
          "output_type": "stream",
          "name": "stdout",
          "text": [
            "accuracy on dev: \n",
            "0.925\n"
          ]
        }
      ]
    },
    {
      "cell_type": "code",
      "source": [
        "Z1,A1,Z2,A2,Z3,A3 = forward_pass(X_test,W1,B1,W2,B2,W3,B3)\n",
        "predictions = get_predictions(A3)\n",
        "print(\"accuracy on test: \")\n",
        "print(get_accuracy(predictions, Y_test))"
      ],
      "metadata": {
        "colab": {
          "base_uri": "https://localhost:8080/"
        },
        "id": "o4a5rJQitVVl",
        "outputId": "83e96b20-1f97-46b0-d2a2-438e9f7c28e2"
      },
      "execution_count": 12,
      "outputs": [
        {
          "output_type": "stream",
          "name": "stdout",
          "text": [
            "accuracy on test: \n",
            "0.93\n"
          ]
        }
      ]
    },
    {
      "cell_type": "code",
      "source": [
        "def plot_metrics(cost_list, accuracy_list):\n",
        "    fig, ax1 = plt.subplots(figsize=(10, 5))\n",
        "\n",
        "    # Plot cost on left Y-axis\n",
        "    ax1.set_xlabel('Epochs')\n",
        "    ax1.set_ylabel('Cost', color='red')\n",
        "    ax1.plot(cost_list, color='red', label='Cost')\n",
        "    ax1.tick_params(axis='y', labelcolor='red')\n",
        "    ax1.grid(False)\n",
        "\n",
        "    # Accuracy on right Y-axis\n",
        "    ax2 = ax1.twinx()\n",
        "    ax2.set_ylabel('Accuracy', color='green')\n",
        "    ax2.plot(accuracy_list, color='green', label='Accuracy')\n",
        "    ax2.tick_params(axis='y', labelcolor='green')\n",
        "\n",
        "    # Set clean ticks for accuracy from 0.0 to 1.0 in steps of 0.1\n",
        "    ax2.set_yticks(np.arange(0.0, 1.05, 0.1))\n",
        "\n",
        "    # Title and layout\n",
        "    plt.title('Cost and Accuracy vs Epochs')\n",
        "    fig.tight_layout()\n",
        "    plt.show()\n"
      ],
      "metadata": {
        "id": "6XHWQC-HatOe"
      },
      "execution_count": 13,
      "outputs": []
    },
    {
      "cell_type": "code",
      "source": [
        "def show_predictions(X, Y, W1, B1, W2, B2, W3, B3, num=5):\n",
        "    indices = np.random.choice(X.shape[1], num, replace=False)\n",
        "\n",
        "    for i, idx in enumerate(indices):\n",
        "        x = X[:, idx].reshape(-1, 1)\n",
        "        y_true = Y[idx]\n",
        "\n",
        "        _, _, _, _, _, A3 = forward_pass(x, W1, B1, W2, B2, W3, B3)\n",
        "        y_pred = np.argmax(A3, axis=0)[0]\n",
        "\n",
        "        plt.subplot(1, num, i+1)\n",
        "        plt.imshow(x.reshape(28, 28), cmap='gray')\n",
        "        plt.title(f\"P: {y_pred}, A: {y_true}\")\n",
        "        plt.axis('off')\n",
        "\n",
        "    plt.tight_layout()\n",
        "    plt.show()"
      ],
      "metadata": {
        "id": "E6uWcMJXZCu6"
      },
      "execution_count": 14,
      "outputs": []
    },
    {
      "cell_type": "code",
      "source": [
        "def plot_confusion_matrix(X, Y, W1, B1, W2, B2, W3, B3, title=\"Confusion Matrix\", cmap='Blues'):\n",
        "    _, _, _, _, _, A3 = forward_pass(X, W1, B1, W2, B2, W3, B3)\n",
        "    Y_pred = np.argmax(A3, axis=0)\n",
        "    cm = confusion_matrix(Y, Y_pred)\n",
        "    disp = ConfusionMatrixDisplay(confusion_matrix=cm)\n",
        "    disp.plot(cmap=cmap)\n",
        "    plt.title(title)\n",
        "    plt.show()"
      ],
      "metadata": {
        "id": "Fp0p7K-I4g2t"
      },
      "execution_count": 21,
      "outputs": []
    },
    {
      "cell_type": "code",
      "source": [
        "plot_metrics(cost_list,accuracy_list)"
      ],
      "metadata": {
        "colab": {
          "base_uri": "https://localhost:8080/",
          "height": 507
        },
        "id": "vBu2xqQOZJiW",
        "outputId": "a5d47473-00e2-441d-bd27-b044cebcef97"
      },
      "execution_count": 16,
      "outputs": [
        {
          "output_type": "display_data",
          "data": {
            "text/plain": [
              "<Figure size 1000x500 with 2 Axes>"
            ],
            "image/png": "[encoded data removed]"
          },
          "metadata": {}
        }
      ]
    },
    {
      "cell_type": "code",
      "source": [
        "show_predictions(X_train,Y_train,W1, B1, W2, B2, W3, B3, num=7)"
      ],
      "metadata": {
        "colab": {
          "base_uri": "https://localhost:8080/",
          "height": 133
        },
        "id": "s13IyPtdZaK3",
        "outputId": "98e0216e-c03c-4ec9-fbfa-1f729274f877"
      },
      "execution_count": 17,
      "outputs": [
        {
          "output_type": "display_data",
          "data": {
            "text/plain": [
              "<Figure size 640x480 with 7 Axes>"
            ],
            "image/png": "[encoded data removed]"
          },
          "metadata": {}
        }
      ]
    },
    {
      "cell_type": "code",
      "source": [
        "plot_confusion_matrix(X_train,Y_train,W1, B1, W2, B2, W3, B3,title=\"Confusion Matrix\", cmap='Blues')"
      ],
      "metadata": {
        "id": "dWPOFBkjll-Q",
        "colab": {
          "base_uri": "https://localhost:8080/",
          "height": 472
        },
        "outputId": "6f4a34ba-f267-4fef-a037-172fd82fb3aa"
      },
      "execution_count": 22,
      "outputs": [
        {
          "output_type": "display_data",
          "data": {
            "text/plain": [
              "<Figure size 640x480 with 2 Axes>"
            ],
            "image/png": "[encoded data removed]"
          },
          "metadata": {}
        }
      ]
    }
  ]
}